{
 "cells": [
  {
   "cell_type": "markdown",
   "metadata": {
    "id": "L1uMuIwLKJRg"
   },
   "source": [
    "# 1. このSprintについて\n",
    "\n",
    "---\n",
    "## Sprintの目的\n",
    "\n",
    "- スクラッチを通してニューラルネットワークの基礎を理解する\n",
    "- 画像データの扱い方を知る\n",
    "\n",
    "## どのように学ぶか\n",
    "\n",
    "---\n",
    "スクラッチで単純なニューラルネットワークを実装した後、学習と検証を行なっていきます。\n",
    "\n",
    "```\n",
    "タイトルの「学ぶ」と、機械学習の文脈における「学習」が混在していると初学者は混乱しやすいと思います。\n",
    "タイトルを「このSprintの概要」や「このSprintのアウトライン」などに直してみるのはいかがでしょうか。\n",
    "```"
   ]
  },
  {
   "cell_type": "markdown",
   "metadata": {
    "id": "zW5JNhD3KJRk"
   },
   "source": [
    "# 2. MNISTデータセット\n",
    "\n",
    "ニューラルネットワークスクラッチの検証にはMNISTデータセットを使用します。各種ライブラリやサイトからダウンロードできますが、ここでは深層学習フレームワークのKerasを用います。以下のコードを実行すればデータセットをダウンロードし、展開まで行えます。\n",
    "\n",
    "\n",
    "\n",
    "**《データセットをダウンロードするコード》**\n"
   ]
  },
  {
   "cell_type": "code",
   "execution_count": 1,
   "metadata": {
    "id": "q7z1rLnDKJRl"
   },
   "outputs": [],
   "source": [
    "import numpy as np\n",
    "from keras.datasets import mnist\n",
    "\n",
    "(x_train, y_train), (x_test, y_test) = mnist.load_data()\n",
    "\n",
    "# PEP8 では変数名は lowercase を使うことが推奨されています。\n",
    "# 受講生にこの規則を強制する必要なないと思いますが、配布するテキストはこれに倣っておいたほうがよいと思います。\n",
    "# https://www.python.org/dev/peps/pep-0008/#function-and-variable-names"
   ]
  },
  {
   "cell_type": "markdown",
   "metadata": {
    "id": "Nfi6D4ymKJRl"
   },
   "source": [
    "**《MNISTとは？》**\n",
    "\n",
    "画像分類のための定番データセットで、手書き数字認識を行います。このデータセットには訓練用6万枚、テスト用1万枚の28×28ピクセルの白黒画像、およびそれらが0〜9のどの数字であるかというラベルが含まれています。\n",
    "\n",
    "**《画像データとは？》**\n",
    "\n",
    "デジタル画像は点の集合で、これをピクセルと呼びます。一般的に白黒画像であればピクセルには0〜255の値が含まれます。一方、カラー画像であればR（赤）、G（緑）、B（青）それぞれに対応する0〜255の値が含まれます。機械学習をする上では、この0〜255の値一つひとつが特徴量として扱われます。0〜255は符号なしの8ビット整数で表せる範囲になるため、NumPyであれば「uint8」型の変数として保持できます。\n",
    "\n",
    "\n"
   ]
  },
  {
   "cell_type": "markdown",
   "metadata": {
    "id": "JFREugSlKJRl"
   },
   "source": [
    "## データセットの確認\n",
    "\n",
    "どういったデータなのかを見てみます。\n",
    "\n",
    "```\n",
    "# データセットの形式の確認\n",
    "\n",
    "Kerasで提供されているMNISTデータセットがどのような形式でデータを格納しているかを見てみます。\n",
    "```\n",
    "\n",
    "**《サンプルコード》**"
   ]
  },
  {
   "cell_type": "code",
   "execution_count": 2,
   "metadata": {
    "id": "HjyNDazHKJRm",
    "outputId": "12f9501f-0de3-4a4b-cad2-be78089a9fb8"
   },
   "outputs": [
    {
     "name": "stdout",
     "output_type": "stream",
     "text": [
      "(60000, 28, 28)\n",
      "(10000, 28, 28)\n",
      "uint8\n"
     ]
    }
   ],
   "source": [
    "print(x_train.shape)  # (60000, 28, 28)\n",
    "print(x_test.shape)  # (10000, 28, 28)\n",
    "print(x_train[0].dtype)  # uint8\n",
    "\n",
    "# <ソースコード改善>\n",
    "# PEP8 ではインラインコメントの直前に２つ以上のスペースを入れることが推奨されています。\n",
    "# https://www.python.org/dev/peps/pep-0008/#inline-comments"
   ]
  },
  {
   "cell_type": "markdown",
   "metadata": {
    "id": "oHB9cFZlKJRn"
   },
   "source": [
    "各データは28×28ピクセルの白黒画像です。\n",
    "\n",
    "```\n",
    "<<画像データとは?>> のセクションはこの位置にあるのが自然が気がしました。\n",
    "```"
   ]
  },
  {
   "cell_type": "markdown",
   "metadata": {
    "id": "35qUplGmKJRn"
   },
   "source": [
    "## 平滑化\n",
    "\n",
    "(1, 28, 28)の各画像を、(1, 784)に変換します。これまで学んできた機械学習手法や、今回扱う全結合層のみのニューラルネットワークではこの形で扱います。全てのピクセルが一列になっていることを、 **平滑化（flatten）** してあるという風に表現します。\n",
    "\n",
    "```\n",
    "各画像1枚の shape は (28, 28) や (784,) です。(1, 28, 28) は1枚からなるデータセットです。\n",
    "```\n",
    "```\n",
    "「平滑化（flatten）」の用語の導入なので、「表現します」と書くのは不適切です。\n",
    "「全てのピクセルを一列にすることを、 **平滑化（flatten）** と言います。」が適切だと思います。\n",
    "```\n",
    "\n",
    "**《サンプルコード》**"
   ]
  },
  {
   "cell_type": "code",
   "execution_count": 3,
   "metadata": {
    "id": "_O9f1OIDKJRn"
   },
   "outputs": [],
   "source": [
    "x_train = x_train.reshape(-1, 784)\n",
    "x_test = x_test.reshape(-1, 784)"
   ]
  },
  {
   "cell_type": "markdown",
   "metadata": {
    "id": "yO1eFAuOKJRn"
   },
   "source": [
    "**《補足》**\n",
    "\n",
    "ここまで機械学習を学んでくる中で、特徴量の数を「次元」と呼んできました。その視点ではMNISTは784次元のデータです。一方で、NumPyのshapeが(784,)の状態を1次元配列とも呼びます。画像としての縦横の情報を持つ（28, 28)の状態であれば、2次元配列です。この視点では2次元のデータです。さらに、もしもカラー画像であれば(28, 28, 3)ということになり、3次元配列です。先ほどの視点では3次元のデータになります。しかし、白黒でもカラーでも平面画像であり、立体データではないという視点で、2次元のデータです。画像データを扱う際にはこのように「次元」という言葉が複数の意味合いで使われることに注意してください。\n",
    "\n",
    "```\n",
    "カラー画像は透明度も含めた (28,28,4) で表現されることもあります。「RGB形式では」と修飾をつけるか、あるいはカラー画像について説明しない方がよいと思います。\n",
    "```"
   ]
  },
  {
   "cell_type": "markdown",
   "metadata": {
    "id": "7WbeDSKRKJRo"
   },
   "source": [
    "## 画像データの可視化\n",
    "画像データを可視化します。 `plt.imshow` に渡します。\n",
    "\n",
    "**《サンプルコード》**"
   ]
  },
  {
   "cell_type": "code",
   "execution_count": 4,
   "metadata": {
    "id": "EVCrCZf8KJRo",
    "outputId": "5af15cf0-20a4-41c3-de1a-ff4b0654afbd"
   },
   "outputs": [
    {
     "data": {
      "image/png": "[encoded data removed]",
      "text/plain": [
       "<Figure size 432x288 with 1 Axes>"
      ]
     },
     "metadata": {
      "needs_background": "light"
     },
     "output_type": "display_data"
    }
   ],
   "source": [
    "import matplotlib.pyplot as plt\n",
    "%matplotlib inline\n",
    "index = 0\n",
    "image = x_train[index].reshape(28,28)\n",
    "# X_train[index]: (784,)\n",
    "# image: (28, 28)\n",
    "plt.imshow(image, 'gray')\n",
    "plt.title('label : {}'.format(y_train[index]))\n",
    "plt.show()"
   ]
  },
  {
   "cell_type": "markdown",
   "metadata": {
    "id": "lZqRdq5sKJRo"
   },
   "source": [
    "[numpy.reshape — NumPy v1.17 Manual](https://docs.scipy.org/doc/numpy/reference/generated/numpy.reshape.html)\n",
    "\n",
    "[matplotlib.pyplot.imshow — Matplotlib 3.1.1 documentation](https://matplotlib.org/api/_as_gen/matplotlib.pyplot.imshow.html)\n",
    "```\n",
    "これらのリンクのURLには NumPy, Matplotlib のバージョン指定がありません。常に最新バージョンへのリンクです。\n",
    "「numpy.reshape — NumPy Manual」「matplotlib.pyplot.imshow — Matplotlib documentation」などに直したほうがよさそうです。\n",
    "```"
   ]
  },
  {
   "cell_type": "markdown",
   "metadata": {
    "id": "Cg7KR3RpKJRo"
   },
   "source": [
    "**《発展的話題》**\n",
    "\n",
    "画像データは符号なし8ビット整数のuint8型で保持されることが一般的ですが、plt.imshowはより自由な配列を画像として表示することが可能です。例えば、以下のようにマイナスの値を持ったfloat64型の浮動小数点であってもエラーにはならないし、先ほどと全く同じ風に表示されます。"
   ]
  },
  {
   "cell_type": "code",
   "execution_count": 5,
   "metadata": {
    "id": "B3AzmSRfKJRo",
    "outputId": "e8c8c4bf-760d-43cc-c29f-fa00df324497"
   },
   "outputs": [
    {
     "data": {
      "image/png": "[encoded data removed]",
      "text/plain": [
       "<Figure size 432x288 with 1 Axes>"
      ]
     },
     "metadata": {
      "needs_background": "light"
     },
     "output_type": "display_data"
    },
    {
     "name": "stdout",
     "output_type": "stream",
     "text": [
      "[[-105.35 -105.35 -105.35 -105.35 -105.35 -105.35 -105.35 -105.35 -105.35\n",
      "  -105.35 -105.35 -105.35 -105.35 -105.35 -105.35 -105.35 -105.35 -105.35\n",
      "  -105.35 -105.35 -105.35 -105.35 -105.35 -105.35 -105.35 -105.35 -105.35\n",
      "  -105.35]\n",
      " [-105.35 -105.35 -105.35 -105.35 -105.35 -105.35 -105.35 -105.35 -105.35\n",
      "  -105.35 -105.35 -105.35 -105.35 -105.35 -105.35 -105.35 -105.35 -105.35\n",
      "  -105.35 -105.35 -105.35 -105.35 -105.35 -105.35 -105.35 -105.35 -105.35\n",
      "  -105.35]\n",
      " [-105.35 -105.35 -105.35 -105.35 -105.35 -105.35 -105.35 -105.35 -105.35\n",
      "  -105.35 -105.35 -105.35 -105.35 -105.35 -105.35 -105.35 -105.35 -105.35\n",
      "  -105.35 -105.35 -105.35 -105.35 -105.35 -105.35 -105.35 -105.35 -105.35\n",
      "  -105.35]\n",
      " [-105.35 -105.35 -105.35 -105.35 -105.35 -105.35 -105.35 -105.35 -105.35\n",
      "  -105.35 -105.35 -105.35 -105.35 -105.35 -105.35 -105.35 -105.35 -105.35\n",
      "  -105.35 -105.35 -105.35 -105.35 -105.35 -105.35 -105.35 -105.35 -105.35\n",
      "  -105.35]\n",
      " [-105.35 -105.35 -105.35 -105.35 -105.35 -105.35 -105.35 -105.35 -105.35\n",
      "  -105.35 -105.35 -105.35 -105.35 -105.35 -105.35 -105.35 -105.35 -105.35\n",
      "  -105.35 -105.35 -105.35 -105.35 -105.35 -105.35 -105.35 -105.35 -105.35\n",
      "  -105.35]\n",
      " [-105.35 -105.35 -105.35 -105.35 -105.35 -105.35 -105.35 -105.35 -105.35\n",
      "  -105.35 -105.35 -105.35 -102.35  -87.35  -87.35  -87.35   20.65   30.65\n",
      "    69.65  -79.35   60.65  149.65  141.65   21.65 -105.35 -105.35 -105.35\n",
      "  -105.35]\n",
      " [-105.35 -105.35 -105.35 -105.35 -105.35 -105.35 -105.35 -105.35  -75.35\n",
      "   -69.35  -11.35   48.65   64.65  147.65  147.65  147.65  147.65  147.65\n",
      "   119.65   66.65  147.65  136.65   89.65  -41.35 -105.35 -105.35 -105.35\n",
      "  -105.35]\n",
      " [-105.35 -105.35 -105.35 -105.35 -105.35 -105.35 -105.35  -56.35  132.65\n",
      "   147.65  147.65  147.65  147.65  147.65  147.65  147.65  147.65  145.65\n",
      "   -12.35  -23.35  -23.35  -49.35  -66.35 -105.35 -105.35 -105.35 -105.35\n",
      "  -105.35]\n",
      " [-105.35 -105.35 -105.35 -105.35 -105.35 -105.35 -105.35  -87.35  113.65\n",
      "   147.65  147.65  147.65  147.65  147.65   92.65   76.65  141.65  135.65\n",
      "  -105.35 -105.35 -105.35 -105.35 -105.35 -105.35 -105.35 -105.35 -105.35\n",
      "  -105.35]\n",
      " [-105.35 -105.35 -105.35 -105.35 -105.35 -105.35 -105.35 -105.35  -25.35\n",
      "    50.65    1.65  147.65  147.65   99.65  -94.35 -105.35  -62.35   48.65\n",
      "  -105.35 -105.35 -105.35 -105.35 -105.35 -105.35 -105.35 -105.35 -105.35\n",
      "  -105.35]\n",
      " [-105.35 -105.35 -105.35 -105.35 -105.35 -105.35 -105.35 -105.35 -105.35\n",
      "   -91.35 -104.35   48.65  147.65  -15.35 -105.35 -105.35 -105.35 -105.35\n",
      "  -105.35 -105.35 -105.35 -105.35 -105.35 -105.35 -105.35 -105.35 -105.35\n",
      "  -105.35]\n",
      " [-105.35 -105.35 -105.35 -105.35 -105.35 -105.35 -105.35 -105.35 -105.35\n",
      "  -105.35 -105.35   33.65  147.65   84.65 -103.35 -105.35 -105.35 -105.35\n",
      "  -105.35 -105.35 -105.35 -105.35 -105.35 -105.35 -105.35 -105.35 -105.35\n",
      "  -105.35]\n",
      " [-105.35 -105.35 -105.35 -105.35 -105.35 -105.35 -105.35 -105.35 -105.35\n",
      "  -105.35 -105.35  -94.35   84.65  147.65  -35.35 -105.35 -105.35 -105.35\n",
      "  -105.35 -105.35 -105.35 -105.35 -105.35 -105.35 -105.35 -105.35 -105.35\n",
      "  -105.35]\n",
      " [-105.35 -105.35 -105.35 -105.35 -105.35 -105.35 -105.35 -105.35 -105.35\n",
      "  -105.35 -105.35 -105.35  -70.35  135.65  119.65   54.65    2.65 -104.35\n",
      "  -105.35 -105.35 -105.35 -105.35 -105.35 -105.35 -105.35 -105.35 -105.35\n",
      "  -105.35]\n",
      " [-105.35 -105.35 -105.35 -105.35 -105.35 -105.35 -105.35 -105.35 -105.35\n",
      "  -105.35 -105.35 -105.35 -105.35  -24.35  134.65  147.65  147.65   13.65\n",
      "   -80.35 -105.35 -105.35 -105.35 -105.35 -105.35 -105.35 -105.35 -105.35\n",
      "  -105.35]\n",
      " [-105.35 -105.35 -105.35 -105.35 -105.35 -105.35 -105.35 -105.35 -105.35\n",
      "  -105.35 -105.35 -105.35 -105.35 -105.35  -60.35   80.65  147.65  147.65\n",
      "    44.65  -78.35 -105.35 -105.35 -105.35 -105.35 -105.35 -105.35 -105.35\n",
      "  -105.35]\n",
      " [-105.35 -105.35 -105.35 -105.35 -105.35 -105.35 -105.35 -105.35 -105.35\n",
      "  -105.35 -105.35 -105.35 -105.35 -105.35 -105.35  -89.35  -12.35  146.65\n",
      "   147.65   81.65 -105.35 -105.35 -105.35 -105.35 -105.35 -105.35 -105.35\n",
      "  -105.35]\n",
      " [-105.35 -105.35 -105.35 -105.35 -105.35 -105.35 -105.35 -105.35 -105.35\n",
      "  -105.35 -105.35 -105.35 -105.35 -105.35 -105.35 -105.35 -105.35  143.65\n",
      "   147.65  143.65  -41.35 -105.35 -105.35 -105.35 -105.35 -105.35 -105.35\n",
      "  -105.35]\n",
      " [-105.35 -105.35 -105.35 -105.35 -105.35 -105.35 -105.35 -105.35 -105.35\n",
      "  -105.35 -105.35 -105.35 -105.35 -105.35  -59.35   24.65   77.65  147.65\n",
      "   147.65  101.65 -103.35 -105.35 -105.35 -105.35 -105.35 -105.35 -105.35\n",
      "  -105.35]\n",
      " [-105.35 -105.35 -105.35 -105.35 -105.35 -105.35 -105.35 -105.35 -105.35\n",
      "  -105.35 -105.35 -105.35  -66.35   42.65  123.65  147.65  147.65  147.65\n",
      "   144.65   76.65 -105.35 -105.35 -105.35 -105.35 -105.35 -105.35 -105.35\n",
      "  -105.35]\n",
      " [-105.35 -105.35 -105.35 -105.35 -105.35 -105.35 -105.35 -105.35 -105.35\n",
      "  -105.35  -81.35    8.65  115.65  147.65  147.65  147.65  147.65   95.65\n",
      "   -27.35 -105.35 -105.35 -105.35 -105.35 -105.35 -105.35 -105.35 -105.35\n",
      "  -105.35]\n",
      " [-105.35 -105.35 -105.35 -105.35 -105.35 -105.35 -105.35 -105.35  -82.35\n",
      "   -39.35  107.65  147.65  147.65  147.65  147.65   92.65  -24.35 -103.35\n",
      "  -105.35 -105.35 -105.35 -105.35 -105.35 -105.35 -105.35 -105.35 -105.35\n",
      "  -105.35]\n",
      " [-105.35 -105.35 -105.35 -105.35 -105.35 -105.35  -87.35   65.65  113.65\n",
      "   147.65  147.65  147.65  147.65   89.65  -25.35  -96.35 -105.35 -105.35\n",
      "  -105.35 -105.35 -105.35 -105.35 -105.35 -105.35 -105.35 -105.35 -105.35\n",
      "  -105.35]\n",
      " [-105.35 -105.35 -105.35 -105.35  -50.35   66.65  120.65  147.65  147.65\n",
      "   147.65  147.65  138.65   27.65  -94.35 -105.35 -105.35 -105.35 -105.35\n",
      "  -105.35 -105.35 -105.35 -105.35 -105.35 -105.35 -105.35 -105.35 -105.35\n",
      "  -105.35]\n",
      " [-105.35 -105.35 -105.35 -105.35   30.65  147.65  147.65  147.65  106.65\n",
      "    29.65   26.65  -89.35 -105.35 -105.35 -105.35 -105.35 -105.35 -105.35\n",
      "  -105.35 -105.35 -105.35 -105.35 -105.35 -105.35 -105.35 -105.35 -105.35\n",
      "  -105.35]\n",
      " [-105.35 -105.35 -105.35 -105.35 -105.35 -105.35 -105.35 -105.35 -105.35\n",
      "  -105.35 -105.35 -105.35 -105.35 -105.35 -105.35 -105.35 -105.35 -105.35\n",
      "  -105.35 -105.35 -105.35 -105.35 -105.35 -105.35 -105.35 -105.35 -105.35\n",
      "  -105.35]\n",
      " [-105.35 -105.35 -105.35 -105.35 -105.35 -105.35 -105.35 -105.35 -105.35\n",
      "  -105.35 -105.35 -105.35 -105.35 -105.35 -105.35 -105.35 -105.35 -105.35\n",
      "  -105.35 -105.35 -105.35 -105.35 -105.35 -105.35 -105.35 -105.35 -105.35\n",
      "  -105.35]\n",
      " [-105.35 -105.35 -105.35 -105.35 -105.35 -105.35 -105.35 -105.35 -105.35\n",
      "  -105.35 -105.35 -105.35 -105.35 -105.35 -105.35 -105.35 -105.35 -105.35\n",
      "  -105.35 -105.35 -105.35 -105.35 -105.35 -105.35 -105.35 -105.35 -105.35\n",
      "  -105.35]]\n"
     ]
    }
   ],
   "source": [
    "index = 0\n",
    "image = x_train[index].reshape(28,28)\n",
    "image = image.astype(np.float) # float型に変換\n",
    "image -= 105.35 # 意図的に負の小数値を作り出してみる\n",
    "plt.imshow(image, 'gray')\n",
    "plt.title('label : {}'.format(y_train[index]))\n",
    "plt.show()\n",
    "print(image) # 値を確認"
   ]
  },
  {
   "cell_type": "markdown",
   "metadata": {
    "id": "GDZ_mBo-KJRp"
   },
   "source": [
    "これは、自動的に値を0〜255の整数に変換して処理するように作られているからです。uint8型であっても最小値が0、最大値が255でない場合には色合いがおかしくなります。それを防ぐためには次のように引数を入れてください。"
   ]
  },
  {
   "cell_type": "code",
   "execution_count": 6,
   "metadata": {
    "id": "dvUrCTpkKJRp",
    "outputId": "b9c39829-2ba4-49e6-80c9-127f97f42791"
   },
   "outputs": [
    {
     "data": {
      "text/plain": [
       "<matplotlib.image.AxesImage at 0x7ff3488dc6d0>"
      ]
     },
     "execution_count": 6,
     "metadata": {},
     "output_type": "execute_result"
    },
    {
     "data": {
      "image/png": "[encoded data removed]",
      "text/plain": [
       "<Figure size 432x288 with 1 Axes>"
      ]
     },
     "metadata": {
      "needs_background": "light"
     },
     "output_type": "display_data"
    }
   ],
   "source": [
    "plt.imshow(image, 'gray', vmin = 0, vmax = 255)"
   ]
  },
  {
   "cell_type": "markdown",
   "metadata": {
    "id": "qIjRM_x3KJRp"
   },
   "source": [
    "画像関係のライブラリではこの自動的なスケーリングが思わぬ結果を生むことがあるので、新しいメソッドを使うときには確認しておきましょう。"
   ]
  },
  {
   "cell_type": "markdown",
   "metadata": {
    "id": "HHI8ouVXKJRp"
   },
   "source": [
    "## 前処理\n",
    "\n",
    "画像は0から255のuint8型で表されますが、機械学習をする上では0から1のfloat型で扱うことになります。以下のコードで変換可能です。\n",
    "\n",
    "**《サンプルコード》**"
   ]
  },
  {
   "cell_type": "code",
   "execution_count": 7,
   "metadata": {
    "id": "ejgOHlmpKJRp",
    "outputId": "ce77352b-3ff1-40b4-f491-8397bf6d9f85"
   },
   "outputs": [
    {
     "name": "stdout",
     "output_type": "stream",
     "text": [
      "1.0\n",
      "0.0\n"
     ]
    }
   ],
   "source": [
    "x_train = x_train.astype(np.float)\n",
    "x_test = x_test.astype(np.float)\n",
    "x_train /= 255\n",
    "x_test /= 255\n",
    "print(x_train.max())  # 1.0\n",
    "print(x_train.min())  # 0.0"
   ]
  },
  {
   "cell_type": "markdown",
   "metadata": {
    "id": "ro4RdTRtKJRq"
   },
   "source": [
    "また、正解ラベルは0から9の整数ですが、ニューラルネットワークで多クラス分類を行う際には **one-hot表現** に変換します。scikit-learnの `OneHotEncoder` を使用したコードが以下です。このone-hot表現による値はそのラベルである確率を示していることになるため、float型で扱います。\n",
    "\n",
    "```\n",
    "この程度なら折角なら自前でNumPyを使って変換したほうがよいのではないでしょうか。\n",
    "```\n",
    "\n",
    "**《サンプルコード》**"
   ]
  },
  {
   "cell_type": "code",
   "execution_count": 8,
   "metadata": {
    "id": "2hsvw4E6KJRq",
    "outputId": "e444af0e-5d7e-464f-a9bd-eceff2d79d6e"
   },
   "outputs": [
    {
     "name": "stdout",
     "output_type": "stream",
     "text": [
      "(60000,)\n",
      "(60000, 10)\n",
      "float64\n"
     ]
    }
   ],
   "source": [
    "y_train_one_hot = (y_train.reshape(-1, 1) == np.arange(10)).astype(np.float64)\n",
    "y_test_one_hot = (y_test.reshape(-1, 1) == np.arange(10)).astype(np.float64)\n",
    "print(y_train.shape)  # (60000,)\n",
    "print(y_train_one_hot.shape)  # (60000, 10)\n",
    "print(y_train_one_hot.dtype)  # float64"
   ]
  },
  {
   "cell_type": "code",
   "execution_count": 51,
   "metadata": {},
   "outputs": [
    {
     "data": {
      "text/plain": [
       "array([[8],\n",
       "       [4],\n",
       "       [3],\n",
       "       ...,\n",
       "       [0],\n",
       "       [2],\n",
       "       [7]], dtype=uint8)"
      ]
     },
     "execution_count": 51,
     "metadata": {},
     "output_type": "execute_result"
    }
   ],
   "source": [
    "y_train.reshape(-1, 1)"
   ]
  },
  {
   "cell_type": "code",
   "execution_count": 52,
   "metadata": {},
   "outputs": [
    {
     "data": {
      "text/plain": [
       "array([0, 1, 2, 3, 4, 5, 6, 7, 8, 9])"
      ]
     },
     "execution_count": 52,
     "metadata": {},
     "output_type": "execute_result"
    }
   ],
   "source": [
    "np.arange(10)"
   ]
  },
  {
   "cell_type": "code",
   "execution_count": 53,
   "metadata": {},
   "outputs": [
    {
     "data": {
      "text/plain": [
       "array([[0., 0., 0., ..., 0., 1., 0.],\n",
       "       [0., 0., 0., ..., 0., 0., 0.],\n",
       "       [0., 0., 0., ..., 0., 0., 0.],\n",
       "       ...,\n",
       "       [1., 0., 0., ..., 0., 0., 0.],\n",
       "       [0., 0., 1., ..., 0., 0., 0.],\n",
       "       [0., 0., 0., ..., 1., 0., 0.]])"
      ]
     },
     "execution_count": 53,
     "metadata": {},
     "output_type": "execute_result"
    }
   ],
   "source": [
    " (y_train.reshape(-1, 1) == np.arange(10)).astype(np.float64)"
   ]
  },
  {
   "cell_type": "markdown",
   "metadata": {
    "id": "fi0vbvSuKJRq"
   },
   "source": [
    "さらに、訓練データ6万枚の内2割を検証データとして分割してください。訓練データが48000枚、検証データが12000枚となります。\n",
    "\n",
    "**《サンプルコード》**"
   ]
  },
  {
   "cell_type": "code",
   "execution_count": 9,
   "metadata": {
    "id": "CcW4abVsKJRq",
    "outputId": "e316000d-2ef4-4644-ad84-2ed537b99e80"
   },
   "outputs": [
    {
     "name": "stdout",
     "output_type": "stream",
     "text": [
      "(48000, 784)\n",
      "(12000, 784)\n"
     ]
    }
   ],
   "source": [
    "def split_data(data, permutation, val_size_rate=0.2):\n",
    "    data = data[permutation]\n",
    "    val_size = int(len(data) * val_size_rate)\n",
    "    val = data[:val_size]\n",
    "    train = data[val_size:]\n",
    "    return train, val\n",
    "\n",
    "permutation = np.random.permutation(np.arange(len(x_train)))\n",
    "x_train, x_val = split_data(x_train, permutation)\n",
    "y_train, y_val = split_data(y_train, permutation)\n",
    "print(x_train.shape)  # (48000, 784)\n",
    "print(x_val.shape)  # (12000, 784)"
   ]
  },
  {
   "cell_type": "code",
   "execution_count": 10,
   "metadata": {},
   "outputs": [
    {
     "data": {
      "text/plain": [
       "array([46520, 50614, 46275, ..., 59051,  4071, 43337])"
      ]
     },
     "execution_count": 10,
     "metadata": {},
     "output_type": "execute_result"
    }
   ],
   "source": [
    "permutation"
   ]
  },
  {
   "cell_type": "markdown",
   "metadata": {
    "id": "yhdGViEGKJRq"
   },
   "source": [
    "# 3.ニューラルネットワークスクラッチ\n",
    "\n",
    "ニューラルネットワークのクラスをスクラッチで作成していきます。NumPyなど最低限のライブラリのみを使いアルゴリズムを実装していきます。\n",
    "\n",
    "\n",
    "今回は多クラス分類を行う3層のニューラルネットワークを作成します。層の数などは固定した上でニューラルネットワークの基本を学びます。次のSprintで層を自由に変えられる設計にしていきます。\n",
    "\n",
    "\n",
    "以下に雛形を用意してあります。このScratchSimpleNeuralNetrowkClassifierクラスにコードを書き加えていってください。\n",
    "\n",
    "\n",
    "**《雛形》**"
   ]
  },
  {
   "cell_type": "code",
   "execution_count": 35,
   "metadata": {},
   "outputs": [],
   "source": [
    "# x = x_train\n",
    "# xmax = x.max(axis=1, keepdims=True)\n",
    "# lse = np.log(np.exp(x - xmax).sum(axis=1, keepdims=True)) + xmax\n",
    "# x - lse"
   ]
  },
  {
   "cell_type": "code",
   "execution_count": 37,
   "metadata": {},
   "outputs": [],
   "source": [
    "#np.exp(x - lse)#.sum(axis=1)"
   ]
  },
  {
   "cell_type": "code",
   "execution_count": 38,
   "metadata": {},
   "outputs": [],
   "source": [
    "# sftmx = np.exp(x) / np.exp(x).sum(axis=1, keepdims=True)\n",
    "# sftmx"
   ]
  },
  {
   "cell_type": "code",
   "execution_count": 55,
   "metadata": {},
   "outputs": [
    {
     "name": "stdout",
     "output_type": "stream",
     "text": [
      "inf\n"
     ]
    },
    {
     "name": "stderr",
     "output_type": "stream",
     "text": [
      "<ipython-input-55-ae459e9a37dc>:4: RuntimeWarning: overflow encountered in exp\n",
      "  print(np.log(1+np.exp(1000)))\n"
     ]
    }
   ],
   "source": [
    "# オーバーフローの例\n",
    "\"\"\"https://cloud6.net/so/python/2956119\n",
    "\"\"\"\n",
    "print(np.log(1+np.exp(1000)))"
   ]
  },
  {
   "cell_type": "code",
   "execution_count": 42,
   "metadata": {},
   "outputs": [],
   "source": [
    "#np.exp(2-1) "
   ]
  },
  {
   "cell_type": "code",
   "execution_count": 40,
   "metadata": {},
   "outputs": [],
   "source": [
    "#np.exp(2)/np.exp(1)"
   ]
  },
  {
   "cell_type": "code",
   "execution_count": 54,
   "metadata": {},
   "outputs": [],
   "source": [
    "#y_train.reshape(-1, 1) == np.arange(10)"
   ]
  },
  {
   "cell_type": "code",
   "execution_count": 43,
   "metadata": {},
   "outputs": [],
   "source": [
    "#8 == np.arange(10)"
   ]
  },
  {
   "cell_type": "code",
   "execution_count": 44,
   "metadata": {
    "id": "1NvO-gLXKJRr"
   },
   "outputs": [],
   "source": [
    "def logsumexp(x):\n",
    "    \"\"\"Calculates log(sum(exp(x))).\n",
    "    \"\"\"\n",
    "    xmax = x.max(axis=1, keepdims=True)\n",
    "    return np.log(np.exp(x - xmax).sum(axis=1, keepdims=True)) + xmax\n",
    "\n",
    "\n",
    "class ScratchSimpleNeuralNetrowkClassifier:\n",
    "    \"\"\"MNISTを学習する3層ニューラルネットワーク\n",
    "\n",
    "    Parameter:\n",
    "    ----------\n",
    "    seed (int): シード値\n",
    "    verbose (bool): ログ出力するかどうかのflag\n",
    "    \"\"\"\n",
    "\n",
    "    n1, n2, n3, n4 = 784, 400, 200, 10\n",
    "\n",
    "    def __init__(self, seed=0, verbose = True):\n",
    "         # Problem 1. (initialization)\n",
    "        self.verbose = verbose\n",
    "        sigma = 0.01\n",
    "        np.random.seed(seed)\n",
    "        self.w1 = np.random.normal(0, sigma, (self.n1, self.n2))  # self.w1.shape == (784, 400)\n",
    "        self.b1 = np.random.normal(0, sigma, self.n2)  # self.b1.shape == (400,)\n",
    "        self.w2 = np.random.normal(0, sigma, (self.n2, self.n3))  # self.w2.shape == (400, 200)\n",
    "        self.b2 = np.random.normal(0, sigma, self.n3)  # self.b2.shape == (200,)\n",
    "        self.w3 = np.random.normal(0, sigma, (self.n3, self.n4))  # self.w3.shape == (200, 10)\n",
    "        self.b3 = np.random.normal(0, sigma, self.n4)  # self.b3.shape == (10,)\n",
    "\n",
    "    def forward(self, x):\n",
    "        \"\"\"forward propergation\n",
    "\n",
    "        Parameter:\n",
    "        ----------\n",
    "        x (ndarra): 平滑化された画像データ (batch_size, 784) float64\n",
    "\n",
    "        Returns:\n",
    "        --------\n",
    "        log_z3: 各画像データとラベルの組についての確率の対数 (batch_size, 10) float64\n",
    "        \"\"\"\n",
    "        # Problem 2. (forward propagation)\n",
    "        batch_size = x.shape[0]\n",
    "        self.x = x.reshape(batch_size, 784)  # self.x.shape == (batch_size, 784)\n",
    "        self.a1 = self.x.dot(self.w1) + self.b1  # self.a1.shape == (batch_size, 400)\n",
    "        self.z1 = np.tanh(self.a1)  # self.z1.shape == (batch_size, 400)\n",
    "        self.a2 = self.z1.dot(self.w2) + self.b2  # self.a2.shape == (batch_size, 200)\n",
    "        self.z2 = np.tanh(self.a2)  # self.z2.shape == (batch_size, 200)\n",
    "        self.a3 = self.z2.dot(self.w3) + self.b3  # self.a3.shape == (batch_size, 10)\n",
    "        # 以下の式は a3 の値が大きい時に overflow するので避ける\n",
    "        # self.z3 = np.exp(self.a3) / np.exp(self.a3).sum(axis=1, keepdims=True)\n",
    "        log_z3 = self.a3 - logsumexp(self.a3)\n",
    "        self.z3 = np.exp(log_z3)\n",
    "        return log_z3\n",
    "\n",
    "    def forward_and_loss(self, x, y):\n",
    "        \"\"\"forward propergation + loss\n",
    "\n",
    "        Parameter:\n",
    "        ----------\n",
    "        x (ndarray): 平滑化された画像データ (batch_size, 784) float64\n",
    "        y (ndarray): 正解ラベル (batch_size,) int64\n",
    "\n",
    "        Returns:\n",
    "        --------\n",
    "        loss (float64): loss値\n",
    "        correct (int64): 正答数\n",
    "        \"\"\"\n",
    "        # Problem 3. (cross entropy)\n",
    "        self.y = y.reshape(-1, 1) == np.arange(10)  # one-hot 表現に変換する\n",
    "        log_z3 = self.forward(x)\n",
    "        loss = -(self.y * log_z3).mean(axis=0).sum()\n",
    "        correct = (self.z3.argmax(axis=1) == y).sum()\n",
    "        return loss, correct\n",
    "        \n",
    "    def backprop(self, alpha=0.01):\n",
    "        # Problem 4. (back propagation)\n",
    "        batch_size = self.x.shape[0]\n",
    "        ga3 = (self.z3 - self.y) / batch_size\n",
    "        self.b3 -= alpha * ga3.sum(axis=0)\n",
    "        self.w3 -= alpha * self.z2.T.dot(ga3)\n",
    "        gz2 = ga3.dot(self.w3.T)\n",
    "        ga2 = gz2 * (1 - self.z2 ** 2)\n",
    "        self.b2 -= alpha * ga2.sum(axis=0)\n",
    "        self.w2 -= alpha * self.z1.T.dot(ga2)\n",
    "        gz1 = ga2.dot(self.w2.T)\n",
    "        ga1 = gz1 * (1 - self.z1 ** 2)\n",
    "        self.b1 -= alpha * ga1.sum(axis=0)\n",
    "        self.w1 -= alpha * self.x.T.dot(ga1)\n",
    "\n",
    "    def fit(self, x_train, y_train, x_val, y_val, batch_size=20):\n",
    "\n",
    "        n_epochs = 20\n",
    "        n_step_iteration_report = 500\n",
    "        plot_data = []\n",
    "\n",
    "        # Problem 6.\n",
    "        for epoch in range(n_epochs):\n",
    "            sum_of_loss = 0\n",
    "            for i, (x, y) in enumerate(get_minibatches(x_train, y_train, batch_size)):\n",
    "                self.y = y.reshape(-1, 1) == np.arange(10)\n",
    "                loss, correct = self.forward_and_loss(x, y)\n",
    "                self.backprop()\n",
    "               \n",
    "                # ログ出力\n",
    "                sum_of_loss += loss\n",
    "                if self.verbose and (i + 1) % n_step_iteration_report == 0:\n",
    "                    train_loss = sum_of_loss / n_step_iteration_report\n",
    "                    val_loss, correct = self.forward_and_loss(x_val, y_val)\n",
    "                    print(f'epoch: {epoch+1}, iteration: {i+1}, train_loss: {train_loss:.3}, val_loss: {val_loss:.3}, accuracty: {correct / len(y_val):.3}')\n",
    "                    sum_of_loss = 0\n",
    "\n",
    "                    iters_per_epoch = len(x_train) / batch_size\n",
    "                    plot_data.append((epoch + (i + 1) / iters_per_epoch, train_loss, val_loss))\n",
    "\n",
    "        #  学習曲線のプロット\n",
    "        if self.verbose:\n",
    "            epochs, train_loss, val_loss = zip(*plot_data)\n",
    "            plt.plot(epochs, train_loss, color='r', label='train_loss')\n",
    "            plt.plot(epochs, val_loss, color='b', label='val_loss')\n",
    "            plt.xlabel('epoch')\n",
    "            plt.ylabel('loss')\n",
    "            plt.show()\n",
    "\n",
    "    def predict(self, X):\n",
    "        # Problem 5.\n",
    "        return self.forward(X).argmax(axis=1)"
   ]
  },
  {
   "cell_type": "markdown",
   "metadata": {
    "id": "exAlrfW2KJRr"
   },
   "source": [
    "## ミニバッチ処理\n",
    "\n",
    "これまでの機械学習スクラッチでは、全てのサンプルを一度に計算していました。しかし、ニューラルネットワークではデータを分割して入力する **確率的勾配降下法** が一般的です。分割した際のひとかたまりを **ミニバッチ** 、そのサンプル数を **バッチサイズ** と呼びます。\n",
    "\n",
    "今回はバッチサイズを20とします。今回使う訓練データは48000枚ですから、48000÷20で2400回の更新を繰り返すことになります。ニューラルネットワークではこれを2400回 **イテレーション（iteration）** すると呼びます。訓練データを一度全て見ると1回の **エポック（epoch）** が終わったことになります。このエポックを複数回繰り返し、学習が完了します。\n",
    "\n",
    "これを実現するための簡素なイテレータを用意しました。for文で呼び出すと、ミニバッチを取得できます。\n",
    "\n",
    "**《コード》**"
   ]
  },
  {
   "cell_type": "code",
   "execution_count": 12,
   "metadata": {
    "id": "zsN4N09yKJRs"
   },
   "outputs": [],
   "source": [
    "def get_minibatches(x, y, batch_size):\n",
    "    \"\"\"Returns a generator emits mini-batches.\n",
    "    \"\"\"\n",
    "    size = x.shape[0]\n",
    "    n_batches = size // batch_size\n",
    "    shuffle_index = np.random.permutation(np.arange(size))\n",
    "    new_size = batch_size * n_batches\n",
    "    x_batches = np.split(x[shuffle_index][:new_size], n_batches)\n",
    "    y_batches = np.split(y[shuffle_index][:new_size], n_batches)\n",
    "    return zip(x_batches, y_batches)\n"
   ]
  },
  {
   "cell_type": "code",
   "execution_count": 13,
   "metadata": {
    "id": "ncw-ZaqiKJRs",
    "outputId": "9abe8882-95be-49a1-9a8d-b55974259579"
   },
   "outputs": [
    {
     "name": "stdout",
     "output_type": "stream",
     "text": [
      "epoch: 1, iteration: 500, train_loss: 2.29, val_loss: 2.28, accuracty: 0.309\n",
      "epoch: 1, iteration: 1000, train_loss: 2.23, val_loss: 2.08, accuracty: 0.341\n",
      "epoch: 1, iteration: 1500, train_loss: 1.66, val_loss: 1.28, accuracty: 0.58\n",
      "epoch: 1, iteration: 2000, train_loss: 1.02, val_loss: 0.823, accuracty: 0.755\n",
      "epoch: 2, iteration: 500, train_loss: 0.612, val_loss: 0.573, accuracty: 0.834\n",
      "epoch: 2, iteration: 1000, train_loss: 0.546, val_loss: 0.503, accuracty: 0.855\n",
      "epoch: 2, iteration: 1500, train_loss: 0.493, val_loss: 0.458, accuracty: 0.868\n",
      "epoch: 2, iteration: 2000, train_loss: 0.442, val_loss: 0.43, accuracty: 0.876\n",
      "epoch: 3, iteration: 500, train_loss: 0.403, val_loss: 0.395, accuracty: 0.887\n",
      "epoch: 3, iteration: 1000, train_loss: 0.388, val_loss: 0.379, accuracty: 0.892\n",
      "epoch: 3, iteration: 1500, train_loss: 0.381, val_loss: 0.365, accuracty: 0.895\n",
      "epoch: 3, iteration: 2000, train_loss: 0.343, val_loss: 0.356, accuracty: 0.896\n",
      "epoch: 4, iteration: 500, train_loss: 0.352, val_loss: 0.345, accuracty: 0.9\n",
      "epoch: 4, iteration: 1000, train_loss: 0.341, val_loss: 0.335, accuracty: 0.903\n",
      "epoch: 4, iteration: 1500, train_loss: 0.316, val_loss: 0.335, accuracty: 0.901\n",
      "epoch: 4, iteration: 2000, train_loss: 0.328, val_loss: 0.324, accuracty: 0.908\n",
      "epoch: 5, iteration: 500, train_loss: 0.301, val_loss: 0.316, accuracty: 0.911\n",
      "epoch: 5, iteration: 1000, train_loss: 0.325, val_loss: 0.311, accuracty: 0.913\n",
      "epoch: 5, iteration: 1500, train_loss: 0.3, val_loss: 0.304, accuracty: 0.913\n",
      "epoch: 5, iteration: 2000, train_loss: 0.3, val_loss: 0.3, accuracty: 0.916\n",
      "epoch: 6, iteration: 500, train_loss: 0.283, val_loss: 0.292, accuracty: 0.918\n",
      "epoch: 6, iteration: 1000, train_loss: 0.288, val_loss: 0.288, accuracty: 0.92\n",
      "epoch: 6, iteration: 1500, train_loss: 0.295, val_loss: 0.285, accuracty: 0.919\n",
      "epoch: 6, iteration: 2000, train_loss: 0.268, val_loss: 0.281, accuracty: 0.919\n",
      "epoch: 7, iteration: 500, train_loss: 0.274, val_loss: 0.275, accuracty: 0.921\n",
      "epoch: 7, iteration: 1000, train_loss: 0.263, val_loss: 0.27, accuracty: 0.921\n",
      "epoch: 7, iteration: 1500, train_loss: 0.265, val_loss: 0.267, accuracty: 0.924\n",
      "epoch: 7, iteration: 2000, train_loss: 0.248, val_loss: 0.261, accuracty: 0.925\n",
      "epoch: 8, iteration: 500, train_loss: 0.255, val_loss: 0.257, accuracty: 0.927\n",
      "epoch: 8, iteration: 1000, train_loss: 0.242, val_loss: 0.251, accuracty: 0.928\n",
      "epoch: 8, iteration: 1500, train_loss: 0.235, val_loss: 0.247, accuracty: 0.929\n",
      "epoch: 8, iteration: 2000, train_loss: 0.247, val_loss: 0.242, accuracty: 0.931\n",
      "epoch: 9, iteration: 500, train_loss: 0.231, val_loss: 0.24, accuracty: 0.931\n",
      "epoch: 9, iteration: 1000, train_loss: 0.232, val_loss: 0.237, accuracty: 0.932\n",
      "epoch: 9, iteration: 1500, train_loss: 0.223, val_loss: 0.232, accuracty: 0.935\n",
      "epoch: 9, iteration: 2000, train_loss: 0.218, val_loss: 0.226, accuracty: 0.935\n",
      "epoch: 10, iteration: 500, train_loss: 0.214, val_loss: 0.222, accuracty: 0.936\n",
      "epoch: 10, iteration: 1000, train_loss: 0.202, val_loss: 0.225, accuracty: 0.935\n",
      "epoch: 10, iteration: 1500, train_loss: 0.213, val_loss: 0.219, accuracty: 0.939\n",
      "epoch: 10, iteration: 2000, train_loss: 0.212, val_loss: 0.212, accuracty: 0.94\n",
      "epoch: 11, iteration: 500, train_loss: 0.203, val_loss: 0.21, accuracty: 0.941\n",
      "epoch: 11, iteration: 1000, train_loss: 0.2, val_loss: 0.207, accuracty: 0.942\n",
      "epoch: 11, iteration: 1500, train_loss: 0.189, val_loss: 0.211, accuracty: 0.94\n",
      "epoch: 11, iteration: 2000, train_loss: 0.185, val_loss: 0.2, accuracty: 0.943\n",
      "epoch: 12, iteration: 500, train_loss: 0.185, val_loss: 0.198, accuracty: 0.943\n",
      "epoch: 12, iteration: 1000, train_loss: 0.182, val_loss: 0.194, accuracty: 0.945\n",
      "epoch: 12, iteration: 1500, train_loss: 0.182, val_loss: 0.192, accuracty: 0.945\n",
      "epoch: 12, iteration: 2000, train_loss: 0.183, val_loss: 0.189, accuracty: 0.946\n",
      "epoch: 13, iteration: 500, train_loss: 0.173, val_loss: 0.186, accuracty: 0.946\n",
      "epoch: 13, iteration: 1000, train_loss: 0.175, val_loss: 0.181, accuracty: 0.949\n",
      "epoch: 13, iteration: 1500, train_loss: 0.168, val_loss: 0.182, accuracty: 0.948\n",
      "epoch: 13, iteration: 2000, train_loss: 0.171, val_loss: 0.18, accuracty: 0.949\n",
      "epoch: 14, iteration: 500, train_loss: 0.157, val_loss: 0.173, accuracty: 0.952\n",
      "epoch: 14, iteration: 1000, train_loss: 0.174, val_loss: 0.172, accuracty: 0.951\n",
      "epoch: 14, iteration: 1500, train_loss: 0.157, val_loss: 0.169, accuracty: 0.952\n",
      "epoch: 14, iteration: 2000, train_loss: 0.153, val_loss: 0.167, accuracty: 0.952\n",
      "epoch: 15, iteration: 500, train_loss: 0.139, val_loss: 0.169, accuracty: 0.952\n",
      "epoch: 15, iteration: 1000, train_loss: 0.153, val_loss: 0.164, accuracty: 0.953\n",
      "epoch: 15, iteration: 1500, train_loss: 0.164, val_loss: 0.161, accuracty: 0.955\n",
      "epoch: 15, iteration: 2000, train_loss: 0.148, val_loss: 0.161, accuracty: 0.955\n",
      "epoch: 16, iteration: 500, train_loss: 0.146, val_loss: 0.156, accuracty: 0.956\n",
      "epoch: 16, iteration: 1000, train_loss: 0.145, val_loss: 0.155, accuracty: 0.957\n",
      "epoch: 16, iteration: 1500, train_loss: 0.134, val_loss: 0.153, accuracty: 0.958\n",
      "epoch: 16, iteration: 2000, train_loss: 0.139, val_loss: 0.153, accuracty: 0.957\n",
      "epoch: 17, iteration: 500, train_loss: 0.135, val_loss: 0.148, accuracty: 0.959\n",
      "epoch: 17, iteration: 1000, train_loss: 0.14, val_loss: 0.148, accuracty: 0.958\n",
      "epoch: 17, iteration: 1500, train_loss: 0.12, val_loss: 0.147, accuracty: 0.959\n",
      "epoch: 17, iteration: 2000, train_loss: 0.135, val_loss: 0.147, accuracty: 0.959\n",
      "epoch: 18, iteration: 500, train_loss: 0.122, val_loss: 0.142, accuracty: 0.96\n",
      "epoch: 18, iteration: 1000, train_loss: 0.124, val_loss: 0.14, accuracty: 0.962\n",
      "epoch: 18, iteration: 1500, train_loss: 0.12, val_loss: 0.141, accuracty: 0.959\n",
      "epoch: 18, iteration: 2000, train_loss: 0.126, val_loss: 0.141, accuracty: 0.96\n",
      "epoch: 19, iteration: 500, train_loss: 0.112, val_loss: 0.135, accuracty: 0.962\n",
      "epoch: 19, iteration: 1000, train_loss: 0.117, val_loss: 0.137, accuracty: 0.962\n",
      "epoch: 19, iteration: 1500, train_loss: 0.118, val_loss: 0.135, accuracty: 0.961\n",
      "epoch: 19, iteration: 2000, train_loss: 0.119, val_loss: 0.135, accuracty: 0.963\n",
      "epoch: 20, iteration: 500, train_loss: 0.11, val_loss: 0.134, accuracty: 0.962\n",
      "epoch: 20, iteration: 1000, train_loss: 0.107, val_loss: 0.132, accuracty: 0.962\n",
      "epoch: 20, iteration: 1500, train_loss: 0.109, val_loss: 0.128, accuracty: 0.964\n",
      "epoch: 20, iteration: 2000, train_loss: 0.111, val_loss: 0.131, accuracty: 0.964\n"
     ]
    },
    {
     "data": {
      "image/png": "[encoded data removed]",
      "text/plain": [
       "<Figure size 432x288 with 1 Axes>"
      ]
     },
     "metadata": {
      "needs_background": "light"
     },
     "output_type": "display_data"
    }
   ],
   "source": [
    "model = ScratchSimpleNeuralNetrowkClassifier()\n",
    "model.fit(x_train, y_train, x_val, y_val)"
   ]
  },
  {
   "cell_type": "markdown",
   "metadata": {
    "id": "kR6w5QFsKJRt"
   },
   "source": [
    "## 学習\n",
    "\n",
    "ニューラルネットワークの学習はフォワードプロパゲーションとバックプロパゲションの繰り返しになります。\n",
    "\n",
    "```\n",
    "バックプロパゲション -> バックプロパゲーション\n",
    "```"
   ]
  },
  {
   "cell_type": "markdown",
   "metadata": {
    "id": "8Q9IfiA3KJRt"
   },
   "source": [
    "## 【問題2】フォワードプロパゲーションの実装\n",
    "\n"
   ]
  },
  {
   "cell_type": "code",
   "execution_count": 14,
   "metadata": {
    "id": "ys5YO_8bKJRt",
    "outputId": "99dff23b-9f73-4ee7-b651-89dae9e491d2"
   },
   "outputs": [
    {
     "data": {
      "image/png": "[encoded data removed]",
      "text/plain": [
       "<Figure size 432x432 with 36 Axes>"
      ]
     },
     "metadata": {},
     "output_type": "display_data"
    }
   ],
   "source": [
    "# Problem 8.\n",
    "h, w = 6, 6\n",
    "num = h * w\n",
    "y_pred = model.predict(x_test)\n",
    "falses = (y_pred != y_test).nonzero()[0][:num]\n",
    "num = len(falses)\n",
    "fig = plt.figure(figsize=(h, w))\n",
    "fig.subplots_adjust(left=0, right=0.8,  bottom=0, top=0.8, hspace=1, wspace=0.5)\n",
    "for i in range(num):\n",
    "    ax = fig.add_subplot(h, w, i + 1, xticks=[], yticks=[])\n",
    "    ax.set_title(\"{} / {}\".format(y_pred[falses[i]], y_test[falses[i]]))\n",
    "    ax.imshow(x_test[falses[i]].reshape(28, 28), cmap='gray')"
   ]
  },
  {
   "cell_type": "code",
   "execution_count": null,
   "metadata": {
    "id": "xuczN3KBKJRu"
   },
   "outputs": [],
   "source": []
  }
 ],
 "metadata": {
  "colab": {
   "name": "ワークサンプル",
   "provenance": [],
   "toc_visible": true
  },
  "kernelspec": {
   "display_name": "Python 3",
   "language": "python",
   "name": "python3"
  },
  "language_info": {
   "codemirror_mode": {
    "name": "ipython",
    "version": 3
   },
   "file_extension": ".py",
   "mimetype": "text/x-python",
   "name": "python",
   "nbconvert_exporter": "python",
   "pygments_lexer": "ipython3",
   "version": "3.8.0"
  }
 },
 "nbformat": 4,
 "nbformat_minor": 1
}
